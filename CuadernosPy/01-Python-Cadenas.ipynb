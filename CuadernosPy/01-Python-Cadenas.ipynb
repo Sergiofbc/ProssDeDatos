{
 "cells": [
  {
   "metadata": {},
   "cell_type": "markdown",
   "source": [
    "Nombre : Sergio Felipe Barreto Cifuentes\n",
    "\n",
    "Fecha Inicio: 09 - 08 - 2025\n",
    "\n",
    "Fecha Actual: 11 - 08 - 2025"
   ]
  },
  {
   "cell_type": "markdown",
   "source": [
    "<h1>Procesamiento de Datos a Gran Escala</h1>"
   ],
   "metadata": {
    "application/vnd.databricks.v1+cell": {
     "title": "",
     "showTitle": false,
     "inputWidgets": {},
     "nuid": "c5e61d79-8f0e-4413-afff-a73698e18bb5"
    }
   }
  },
  {
   "cell_type": "markdown",
   "source": [
    "<h2>Operaciones con Cadenas</h2>"
   ],
   "metadata": {
    "application/vnd.databricks.v1+cell": {
     "title": "",
     "showTitle": false,
     "inputWidgets": {},
     "nuid": "c5c3b9b4-1a97-4151-b056-30997a3dae8e"
    }
   }
  },
  {
   "cell_type": "markdown",
   "source": [
    "<p><strong>¡Bienvenido!</strong> En este cuaderno aprenderás sobre operaciones con cadenas en el Lenguaje de Programación Python. Al finalizar, conocerás acerca de las operaciones con cadenas que se pueden realizar en Python como son, indexación, operaciones y secuencias de escape.</p>"
   ],
   "metadata": {
    "application/vnd.databricks.v1+cell": {
     "title": "",
     "showTitle": false,
     "inputWidgets": {},
     "nuid": "97dc7dc7-f023-468f-9901-62cf076efde0"
    }
   }
  },
  {
   "cell_type": "markdown",
   "source": [
    "<h2>Tabla de Contenido</h2>\n<div class=\"alert alert-block alert-info\" style=\"margin-top: 20px\">\n    <ul>\n        <li>\n            <a href=\"#strings\">¿Qué es una cadena?</a>\n        </li>\n        <li>\n            <a href=\"#index\">Indexación</a>\n            <ul>\n                <li><a href=\"neg\">Indexación Negativa</a></li>\n                <li><a href=\"slice\">Slicing</a></li>\n                <li><a href=\"stride\">Stride</a></li>\n                <li><a href=\"concat\">Concatenar Cadenas</a></li>\n            </ul>\n        </li>\n        <li>\n            <a href=\"#escape\">Secuencias de Escape</a>\n        </li>\n        <li>\n            <a href=\"#operations\">Operaciones con Cadenas</a>\n        </li>\n        <li>\n            <a href=\"#quiz\">Exámen sobre Cadenas</a>\n        </li>\n    </ul>\n    <p>\n        Tiempo Estimado: <strong>15 min</strong>\n    </p>\n</div>\n\n<hr>"
   ],
   "metadata": {
    "application/vnd.databricks.v1+cell": {
     "title": "",
     "showTitle": false,
     "inputWidgets": {},
     "nuid": "75b418f4-38c8-4925-8c64-21588ac252dc"
    }
   }
  },
  {
   "cell_type": "markdown",
   "source": [
    "<h2 id=\"strings\">¿Qué es una cadena?</h2>"
   ],
   "metadata": {
    "application/vnd.databricks.v1+cell": {
     "title": "",
     "showTitle": false,
     "inputWidgets": {},
     "nuid": "07f23fc9-4dc4-4104-82cc-32836e59e872"
    }
   }
  },
  {
   "cell_type": "markdown",
   "source": [
    "A continuación, se muestra una cadena entre comillas dobles."
   ],
   "metadata": {
    "application/vnd.databricks.v1+cell": {
     "title": "",
     "showTitle": false,
     "inputWidgets": {},
     "nuid": "8aa1dec4-df2a-49f7-bbe2-d49584a60608"
    }
   }
  },
  {
   "cell_type": "code",
   "source": [
    "# Usa las comillas dobles para definir una cadena\n\n\"Michael Jackson\""
   ],
   "metadata": {
    "application/vnd.databricks.v1+cell": {
     "title": "",
     "showTitle": false,
     "inputWidgets": {},
     "nuid": "26a4f2f6-c7b1-4274-a707-f7ddb76253af"
    },
    "ExecuteTime": {
     "end_time": "2025-08-11T14:35:36.556194Z",
     "start_time": "2025-08-11T14:35:36.549347Z"
    }
   },
   "outputs": [
    {
     "data": {
      "text/plain": [
       "'Michael Jackson'"
      ]
     },
     "execution_count": 48,
     "metadata": {},
     "output_type": "execute_result"
    }
   ],
   "execution_count": 48
  },
  {
   "cell_type": "markdown",
   "source": [
    "También podemos usar comillas simples:"
   ],
   "metadata": {
    "application/vnd.databricks.v1+cell": {
     "title": "",
     "showTitle": false,
     "inputWidgets": {},
     "nuid": "156897c4-37c7-4b5e-b027-832638056035"
    }
   }
  },
  {
   "cell_type": "code",
   "source": [
    "# Usa comillas simples para definir una cadena\n\n'Michael Jackson'"
   ],
   "metadata": {
    "application/vnd.databricks.v1+cell": {
     "title": "",
     "showTitle": false,
     "inputWidgets": {},
     "nuid": "deb3b65e-db10-4e13-bb6e-1201355ad711"
    },
    "ExecuteTime": {
     "end_time": "2025-08-11T14:35:36.590463Z",
     "start_time": "2025-08-11T14:35:36.584460Z"
    }
   },
   "outputs": [
    {
     "data": {
      "text/plain": [
       "'Michael Jackson'"
      ]
     },
     "execution_count": 49,
     "metadata": {},
     "output_type": "execute_result"
    }
   ],
   "execution_count": 49
  },
  {
   "cell_type": "markdown",
   "source": [
    "Una cadena puede ser una combinación de espacios y dígitos:"
   ],
   "metadata": {
    "application/vnd.databricks.v1+cell": {
     "title": "",
     "showTitle": false,
     "inputWidgets": {},
     "nuid": "e5e4693c-3d5f-40fc-a7f6-01f1fb693843"
    }
   }
  },
  {
   "cell_type": "code",
   "source": [
    "# Dígitos y espacios en una cadena\n\n'1 2 3 4 5 6 '"
   ],
   "metadata": {
    "application/vnd.databricks.v1+cell": {
     "title": "",
     "showTitle": false,
     "inputWidgets": {},
     "nuid": "725caefd-24ce-4660-bd0f-af6b902566bb"
    },
    "ExecuteTime": {
     "end_time": "2025-08-11T14:35:36.628369Z",
     "start_time": "2025-08-11T14:35:36.624102Z"
    }
   },
   "outputs": [
    {
     "data": {
      "text/plain": [
       "'1 2 3 4 5 6 '"
      ]
     },
     "execution_count": 50,
     "metadata": {},
     "output_type": "execute_result"
    }
   ],
   "execution_count": 50
  },
  {
   "cell_type": "markdown",
   "source": [
    "Una cadena también puede estar formada por caracteres especiales :"
   ],
   "metadata": {
    "application/vnd.databricks.v1+cell": {
     "title": "",
     "showTitle": false,
     "inputWidgets": {},
     "nuid": "3049df74-fcb0-4d43-9d10-1c98a445be02"
    }
   }
  },
  {
   "cell_type": "code",
   "source": [
    "# Caracteres especiales en una cadena\n\n'@#2_#]&*^%$'"
   ],
   "metadata": {
    "application/vnd.databricks.v1+cell": {
     "title": "",
     "showTitle": false,
     "inputWidgets": {},
     "nuid": "4b20df88-dd74-44e3-a310-5b3c27ecefab"
    },
    "ExecuteTime": {
     "end_time": "2025-08-11T14:35:36.674652Z",
     "start_time": "2025-08-11T14:35:36.668329Z"
    }
   },
   "outputs": [
    {
     "data": {
      "text/plain": [
       "'@#2_#]&*^%$'"
      ]
     },
     "execution_count": 51,
     "metadata": {},
     "output_type": "execute_result"
    }
   ],
   "execution_count": 51
  },
  {
   "cell_type": "markdown",
   "source": [
    "Podemos imprimir en pantallas una cadena usando la sentencia print:"
   ],
   "metadata": {
    "application/vnd.databricks.v1+cell": {
     "title": "",
     "showTitle": false,
     "inputWidgets": {},
     "nuid": "f2dca36c-a031-459e-8579-67c2d0f631b8"
    }
   }
  },
  {
   "cell_type": "code",
   "source": [
    "# Imprimir la cadea\n\nprint(\"hello!\")"
   ],
   "metadata": {
    "application/vnd.databricks.v1+cell": {
     "title": "",
     "showTitle": false,
     "inputWidgets": {},
     "nuid": "ab92c5e7-fe91-40e8-b339-b4150b7daef6"
    },
    "ExecuteTime": {
     "end_time": "2025-08-11T14:35:36.714212Z",
     "start_time": "2025-08-11T14:35:36.709693Z"
    }
   },
   "outputs": [
    {
     "name": "stdout",
     "output_type": "stream",
     "text": [
      "hello!\n"
     ]
    }
   ],
   "execution_count": 52
  },
  {
   "cell_type": "markdown",
   "source": [
    "Podemos asignar una cadena como valor de una variable:"
   ],
   "metadata": {
    "application/vnd.databricks.v1+cell": {
     "title": "",
     "showTitle": false,
     "inputWidgets": {},
     "nuid": "ee912641-c6f6-49a2-8c8a-8224e9f2c011"
    }
   }
  },
  {
   "cell_type": "code",
   "source": [
    "# Asignar una cadena a una variable\n\nName = \"Michael Jackson\"\nName"
   ],
   "metadata": {
    "application/vnd.databricks.v1+cell": {
     "title": "",
     "showTitle": false,
     "inputWidgets": {},
     "nuid": "472735ea-e2b4-4e95-a7b9-dc5a388f8203"
    },
    "ExecuteTime": {
     "end_time": "2025-08-11T14:35:36.751526Z",
     "start_time": "2025-08-11T14:35:36.746577Z"
    }
   },
   "outputs": [
    {
     "data": {
      "text/plain": [
       "'Michael Jackson'"
      ]
     },
     "execution_count": 53,
     "metadata": {},
     "output_type": "execute_result"
    }
   ],
   "execution_count": 53
  },
  {
   "cell_type": "markdown",
   "source": [
    "<h2 id=\"index\">Indexación</h2>"
   ],
   "metadata": {
    "application/vnd.databricks.v1+cell": {
     "title": "",
     "showTitle": false,
     "inputWidgets": {},
     "nuid": "498ef261-6833-4b74-a10b-6a2efa30b4a2"
    }
   }
  },
  {
   "cell_type": "markdown",
   "source": [
    "Debemos pensar en una cadena como una secuencia ordenada. Cada elemento de la secuencia puede ser accedido utilizando un índice numérico, el cual representa el lugar que ocupa dicho elemento en la cadena:"
   ],
   "metadata": {
    "application/vnd.databricks.v1+cell": {
     "title": "",
     "showTitle": false,
     "inputWidgets": {},
     "nuid": "82faedb4-0220-49c6-9513-a607ad48ca64"
    }
   }
  },
  {
   "cell_type": "markdown",
   "source": [
    "<img src=\"https://s3-api.us-geo.objectstorage.softlayer.net/cf-courses-data/CognitiveClass/PY0101EN/Chapter%201/Images/StringsIndex.png\" width=\"600\" align=\"center\" />"
   ],
   "metadata": {
    "application/vnd.databricks.v1+cell": {
     "title": "",
     "showTitle": false,
     "inputWidgets": {},
     "nuid": "edf71893-be4c-4225-af89-1eb7b71e574f"
    }
   }
  },
  {
   "cell_type": "markdown",
   "source": [
    "Se puede acceder al primer índice de la siguiente manera:"
   ],
   "metadata": {
    "application/vnd.databricks.v1+cell": {
     "title": "",
     "showTitle": false,
     "inputWidgets": {},
     "nuid": "3baffebb-7d70-49d7-aae5-5aed40453431"
    }
   }
  },
  {
   "cell_type": "markdown",
   "source": [
    "<hr/>\n<div class=\"alert alert-success alertsuccess\" style=\"margin-top: 20px\">\n[Tip]: En la indexación se empieza por el 0, esto quiere decir que el primer elemento de la cadena está en el índice 0.\n</div>\n<hr/>"
   ],
   "metadata": {
    "application/vnd.databricks.v1+cell": {
     "title": "",
     "showTitle": false,
     "inputWidgets": {},
     "nuid": "dd579068-7787-4dcb-8971-1c7e70312114"
    }
   }
  },
  {
   "cell_type": "code",
   "source": [
    "# Imprime el primer elemento de la cadena\n\nprint(Name[0])"
   ],
   "metadata": {
    "application/vnd.databricks.v1+cell": {
     "title": "",
     "showTitle": false,
     "inputWidgets": {},
     "nuid": "956eff60-6fdc-4c8c-ba51-3c3af1e67d2d"
    },
    "ExecuteTime": {
     "end_time": "2025-08-11T14:35:36.797015Z",
     "start_time": "2025-08-11T14:35:36.792013Z"
    }
   },
   "outputs": [
    {
     "name": "stdout",
     "output_type": "stream",
     "text": [
      "M\n"
     ]
    }
   ],
   "execution_count": 54
  },
  {
   "cell_type": "markdown",
   "source": [
    "Podemos acceder el índice 6:"
   ],
   "metadata": {
    "application/vnd.databricks.v1+cell": {
     "title": "",
     "showTitle": false,
     "inputWidgets": {},
     "nuid": "763c24bb-6639-48c4-8a9a-52f1411126c1"
    }
   }
  },
  {
   "cell_type": "code",
   "source": [
    "# Imprime el elemento en el índice 6 de la cadena\n\nprint(Name[6])"
   ],
   "metadata": {
    "application/vnd.databricks.v1+cell": {
     "title": "",
     "showTitle": false,
     "inputWidgets": {},
     "nuid": "61adbc4f-3f3c-4996-8d58-0191b2ce73e7"
    },
    "ExecuteTime": {
     "end_time": "2025-08-11T14:35:36.846603Z",
     "start_time": "2025-08-11T14:35:36.842122Z"
    }
   },
   "outputs": [
    {
     "name": "stdout",
     "output_type": "stream",
     "text": [
      "l\n"
     ]
    }
   ],
   "execution_count": 55
  },
  {
   "cell_type": "markdown",
   "source": [
    "También, podemos acceder al treceavo elemento:"
   ],
   "metadata": {
    "application/vnd.databricks.v1+cell": {
     "title": "",
     "showTitle": false,
     "inputWidgets": {},
     "nuid": "55b73ebd-cdd4-4b2c-9abe-c691447790bf"
    }
   }
  },
  {
   "cell_type": "code",
   "source": [
    "# Imprime el elemento en el treceavo índice de la cadena\n\nprint(Name[13])"
   ],
   "metadata": {
    "application/vnd.databricks.v1+cell": {
     "title": "",
     "showTitle": false,
     "inputWidgets": {},
     "nuid": "4b2fe12c-7371-45ed-98a7-c417c3c886ba"
    },
    "ExecuteTime": {
     "end_time": "2025-08-11T14:35:36.874315Z",
     "start_time": "2025-08-11T14:35:36.869108Z"
    }
   },
   "outputs": [
    {
     "name": "stdout",
     "output_type": "stream",
     "text": [
      "o\n"
     ]
    }
   ],
   "execution_count": 56
  },
  {
   "cell_type": "markdown",
   "source": [
    "<h3 id=\"neg\">Indexación Negativa</h3>"
   ],
   "metadata": {
    "application/vnd.databricks.v1+cell": {
     "title": "",
     "showTitle": false,
     "inputWidgets": {},
     "nuid": "ef4b0aef-856e-4310-8524-e30d9fc4a7e7"
    }
   }
  },
  {
   "cell_type": "markdown",
   "source": [
    "Con las cadenas tambien podemos usar la indexación negativa:"
   ],
   "metadata": {
    "application/vnd.databricks.v1+cell": {
     "title": "",
     "showTitle": false,
     "inputWidgets": {},
     "nuid": "1e699e8d-475a-4988-b27b-7bb1d0dde27a"
    }
   }
  },
  {
   "cell_type": "markdown",
   "source": [
    "<img src=\"https://s3-api.us-geo.objectstorage.softlayer.net/cf-courses-data/CognitiveClass/PY0101EN/Chapter%201/Images/StringsNeg.png\" width=\"600\" align=\"center\" />"
   ],
   "metadata": {
    "application/vnd.databricks.v1+cell": {
     "title": "",
     "showTitle": false,
     "inputWidgets": {},
     "nuid": "222993fc-fc69-41e4-9c40-b0fed8c79e0b"
    }
   }
  },
  {
   "cell_type": "markdown",
   "source": [
    "La indexación negativa nos sirve para numerar un elemento desde el final de una cadena."
   ],
   "metadata": {
    "application/vnd.databricks.v1+cell": {
     "title": "",
     "showTitle": false,
     "inputWidgets": {},
     "nuid": "21ad5ad4-ab40-4ac2-b1fd-8005a8ddc9a0"
    }
   }
  },
  {
   "cell_type": "markdown",
   "source": [
    "El ultima elemento tiene el índice -1:"
   ],
   "metadata": {
    "application/vnd.databricks.v1+cell": {
     "title": "",
     "showTitle": false,
     "inputWidgets": {},
     "nuid": "9449b8f6-f62c-410e-a163-16672fb823c2"
    }
   }
  },
  {
   "cell_type": "code",
   "source": [
    "# Imprime el último elemento de la cadena\n\nprint(Name[-1])"
   ],
   "metadata": {
    "application/vnd.databricks.v1+cell": {
     "title": "",
     "showTitle": false,
     "inputWidgets": {},
     "nuid": "8673daf2-0532-4732-9cc1-4ffde815f17a"
    },
    "ExecuteTime": {
     "end_time": "2025-08-11T14:35:36.895260Z",
     "start_time": "2025-08-11T14:35:36.890342Z"
    }
   },
   "outputs": [
    {
     "name": "stdout",
     "output_type": "stream",
     "text": [
      "n\n"
     ]
    }
   ],
   "execution_count": 57
  },
  {
   "cell_type": "markdown",
   "source": [
    "El primer elemento se obtiene usando como índice el -15:"
   ],
   "metadata": {
    "application/vnd.databricks.v1+cell": {
     "title": "",
     "showTitle": false,
     "inputWidgets": {},
     "nuid": "c3014bd8-dde8-4fcb-b1f0-a86bfabab7c1"
    }
   }
  },
  {
   "cell_type": "code",
   "source": [
    "# Imprime el primer elemento de la cadena\n\nprint(Name[-15])"
   ],
   "metadata": {
    "application/vnd.databricks.v1+cell": {
     "title": "",
     "showTitle": false,
     "inputWidgets": {},
     "nuid": "66c759a3-e482-4101-8427-176c62939e1b"
    },
    "ExecuteTime": {
     "end_time": "2025-08-11T14:35:36.917213Z",
     "start_time": "2025-08-11T14:35:36.913319Z"
    }
   },
   "outputs": [
    {
     "name": "stdout",
     "output_type": "stream",
     "text": [
      "M\n"
     ]
    }
   ],
   "execution_count": 58
  },
  {
   "cell_type": "markdown",
   "source": [
    "Para conocer la cantidad de caracteres en un cadena usamos <code>len</code>, que es la abreviación de length, en inglés significa longitud:"
   ],
   "metadata": {
    "application/vnd.databricks.v1+cell": {
     "title": "",
     "showTitle": false,
     "inputWidgets": {},
     "nuid": "0beca8f1-b3ce-45d8-a383-87b7165a9f8f"
    }
   }
  },
  {
   "cell_type": "code",
   "source": [
    "# Encuentra la longitud de la cadena\n\nlen(\"Michael Jackson\")"
   ],
   "metadata": {
    "application/vnd.databricks.v1+cell": {
     "title": "",
     "showTitle": false,
     "inputWidgets": {},
     "nuid": "b3a10269-12b0-4657-b731-0ebfd79b8b84"
    },
    "ExecuteTime": {
     "end_time": "2025-08-11T14:35:36.938962Z",
     "start_time": "2025-08-11T14:35:36.932760Z"
    }
   },
   "outputs": [
    {
     "data": {
      "text/plain": [
       "15"
      ]
     },
     "execution_count": 59,
     "metadata": {},
     "output_type": "execute_result"
    }
   ],
   "execution_count": 59
  },
  {
   "cell_type": "markdown",
   "source": [
    "<h3 id=\"slice\">Slicing</h3>"
   ],
   "metadata": {
    "application/vnd.databricks.v1+cell": {
     "title": "",
     "showTitle": false,
     "inputWidgets": {},
     "nuid": "19a168ee-df46-4f2b-9c43-26fb8bad3100"
    }
   }
  },
  {
   "cell_type": "markdown",
   "source": [
    "Podemos obtener múltiples caracteres de una cadena usando el slicing, digamos desde primero hasta el cuarto y desde el octavo hasta el doceavo:"
   ],
   "metadata": {
    "application/vnd.databricks.v1+cell": {
     "title": "",
     "showTitle": false,
     "inputWidgets": {},
     "nuid": "da37a4c2-c3d0-4857-ac65-9aa49d895fc5"
    }
   }
  },
  {
   "cell_type": "markdown",
   "source": [
    "<img src=\"https://s3-api.us-geo.objectstorage.softlayer.net/cf-courses-data/CognitiveClass/PY0101EN/Chapter%201/Images/StringsSlice.png\" width=\"600\" align=\"center\" />"
   ],
   "metadata": {
    "application/vnd.databricks.v1+cell": {
     "title": "",
     "showTitle": false,
     "inputWidgets": {},
     "nuid": "a7fbdef7-db18-4da9-96f3-7da92df74bc7"
    }
   }
  },
  {
   "cell_type": "markdown",
   "source": [
    "<hr/>\n<div class=\"alert alert-success alertsuccess\" style=\"margin-top: 20px\">\n[Tip]: Para aplicar el slicing, el primer numero indica el índice del primer elemento, y el segundo numero indicara el índice del ultimo elemento de la sub-cadena que queremos obtener.\n</div>\n<hr/>"
   ],
   "metadata": {
    "application/vnd.databricks.v1+cell": {
     "title": "",
     "showTitle": false,
     "inputWidgets": {},
     "nuid": "226ab59e-dd92-4640-b69d-8bb7f1018903"
    }
   }
  },
  {
   "cell_type": "code",
   "source": [
    "# Asigna una seccion de la cadena dentro de la variable Name usando los indices desde el 0 hasta el 3\n\nName[0:4]"
   ],
   "metadata": {
    "application/vnd.databricks.v1+cell": {
     "title": "",
     "showTitle": false,
     "inputWidgets": {},
     "nuid": "ccba6bf2-5333-4e5a-a3ad-ddf3bc818c02"
    },
    "ExecuteTime": {
     "end_time": "2025-08-11T14:35:36.963975Z",
     "start_time": "2025-08-11T14:35:36.958057Z"
    }
   },
   "outputs": [
    {
     "data": {
      "text/plain": [
       "'Mich'"
      ]
     },
     "execution_count": 60,
     "metadata": {},
     "output_type": "execute_result"
    }
   ],
   "execution_count": 60
  },
  {
   "cell_type": "code",
   "source": [
    "# Asigna una seccion de la cadena dentro de la variable Name usando los indices desde el 8 hasta el 11\n\nName[8:12]"
   ],
   "metadata": {
    "application/vnd.databricks.v1+cell": {
     "title": "",
     "showTitle": false,
     "inputWidgets": {},
     "nuid": "22f39e7a-d6ae-445a-b4fa-ec6faa54e047"
    },
    "ExecuteTime": {
     "end_time": "2025-08-11T14:35:36.983657Z",
     "start_time": "2025-08-11T14:35:36.978624Z"
    }
   },
   "outputs": [
    {
     "data": {
      "text/plain": [
       "'Jack'"
      ]
     },
     "execution_count": 61,
     "metadata": {},
     "output_type": "execute_result"
    }
   ],
   "execution_count": 61
  },
  {
   "cell_type": "markdown",
   "source": [
    "<h3 id=\"stride\">Stride</h3>"
   ],
   "metadata": {
    "application/vnd.databricks.v1+cell": {
     "title": "",
     "showTitle": false,
     "inputWidgets": {},
     "nuid": "7e9cea89-8472-4e3e-8c7e-ae6be95be267"
    }
   }
  },
  {
   "cell_type": "markdown",
   "source": [
    "Para usar la técnica del stride debemos asignar un valor que a continuación se explica, si usamos el '2' por ejemplo, estaremos indicando que queremos seleccionar solamente cada segundo elemento de la cadena:"
   ],
   "metadata": {
    "application/vnd.databricks.v1+cell": {
     "title": "",
     "showTitle": false,
     "inputWidgets": {},
     "nuid": "9c07eeb9-1a6b-4c0e-9fad-001b24a65953"
    }
   }
  },
  {
   "cell_type": "markdown",
   "source": [
    "<img src=\"https://s3-api.us-geo.objectstorage.softlayer.net/cf-courses-data/CognitiveClass/PY0101EN/Chapter%201/Images/StringsStride.png\" width=\"600\" align=\"center\" />"
   ],
   "metadata": {
    "application/vnd.databricks.v1+cell": {
     "title": "",
     "showTitle": false,
     "inputWidgets": {},
     "nuid": "7c39cfc4-298c-43c4-99a1-b625967921ef"
    }
   }
  },
  {
   "cell_type": "code",
   "source": [
    "# Toma cada segundo elemento. Los elementos con índice 1, 3, 5 ...\n\nName[::2]"
   ],
   "metadata": {
    "application/vnd.databricks.v1+cell": {
     "title": "",
     "showTitle": false,
     "inputWidgets": {},
     "nuid": "fdaefc84-384d-415a-a079-123a601deeb1"
    },
    "ExecuteTime": {
     "end_time": "2025-08-11T14:35:37.021567Z",
     "start_time": "2025-08-11T14:35:37.016685Z"
    }
   },
   "outputs": [
    {
     "data": {
      "text/plain": [
       "'McalJcsn'"
      ]
     },
     "execution_count": 62,
     "metadata": {},
     "output_type": "execute_result"
    }
   ],
   "execution_count": 62
  },
  {
   "cell_type": "markdown",
   "source": [
    "También Podemos combinar el slicing con el stride. Para este caso, seleccionamos los primeros cinco elementos y después aplicamos stride:"
   ],
   "metadata": {
    "application/vnd.databricks.v1+cell": {
     "title": "",
     "showTitle": false,
     "inputWidgets": {},
     "nuid": "05fb0838-a4de-486b-88e4-9834bc8e01d7"
    }
   }
  },
  {
   "cell_type": "code",
   "source": [
    "# Toma cada segundo elemento desde el índice 0 al 4\n\nName[0:5:2]"
   ],
   "metadata": {
    "application/vnd.databricks.v1+cell": {
     "title": "",
     "showTitle": false,
     "inputWidgets": {},
     "nuid": "808f6d84-22b3-41a1-856c-94b54061aa71"
    },
    "ExecuteTime": {
     "end_time": "2025-08-11T14:35:37.057154Z",
     "start_time": "2025-08-11T14:35:37.051093Z"
    }
   },
   "outputs": [
    {
     "data": {
      "text/plain": [
       "'Mca'"
      ]
     },
     "execution_count": 63,
     "metadata": {},
     "output_type": "execute_result"
    }
   ],
   "execution_count": 63
  },
  {
   "cell_type": "markdown",
   "source": [
    "<h3 id=\"concat\">Concatenar Cadenas</h3>"
   ],
   "metadata": {
    "application/vnd.databricks.v1+cell": {
     "title": "",
     "showTitle": false,
     "inputWidgets": {},
     "nuid": "9be577d4-4e55-4d17-8bcd-faf94f7d42b8"
    }
   }
  },
  {
   "cell_type": "markdown",
   "source": [
    "Podemos concatenar o combinar cadenas usando el símbolo de suma, el resultado será una nueva cadena que surge de la combinación de ambas:"
   ],
   "metadata": {
    "application/vnd.databricks.v1+cell": {
     "title": "",
     "showTitle": false,
     "inputWidgets": {},
     "nuid": "ca9879b1-5dac-40ff-83b0-82c0e32e964e"
    }
   }
  },
  {
   "cell_type": "code",
   "source": [
    "# Concatenar dos cadenas\n\nStatement = Name + \"is the best\"\nStatement"
   ],
   "metadata": {
    "application/vnd.databricks.v1+cell": {
     "title": "",
     "showTitle": false,
     "inputWidgets": {},
     "nuid": "fe24609a-7daa-4090-9c24-36571c5e61ea"
    },
    "ExecuteTime": {
     "end_time": "2025-08-11T14:35:37.093085Z",
     "start_time": "2025-08-11T14:35:37.087069Z"
    }
   },
   "outputs": [
    {
     "data": {
      "text/plain": [
       "'Michael Jacksonis the best'"
      ]
     },
     "execution_count": 64,
     "metadata": {},
     "output_type": "execute_result"
    }
   ],
   "execution_count": 64
  },
  {
   "cell_type": "markdown",
   "source": [
    "Para replicar los valores en una cadena simplemente podemos multiplicarla por el numero de veces que deseemos. Para este caso, el numero de veces es tres. El resultado es una nueva cadena, la cual consiste en tres copias de la original:"
   ],
   "metadata": {
    "application/vnd.databricks.v1+cell": {
     "title": "",
     "showTitle": false,
     "inputWidgets": {},
     "nuid": "b0133664-e3e3-4d83-8c81-a8199b2a76cb"
    }
   }
  },
  {
   "cell_type": "code",
   "source": [
    "# Imprime la cadena 3 veces\n\n3 * \"Michael Jackson\""
   ],
   "metadata": {
    "application/vnd.databricks.v1+cell": {
     "title": "",
     "showTitle": false,
     "inputWidgets": {},
     "nuid": "5e196dbe-1920-4bb8-bb51-391ba73ec80e"
    },
    "ExecuteTime": {
     "end_time": "2025-08-11T14:35:37.128676Z",
     "start_time": "2025-08-11T14:35:37.124157Z"
    }
   },
   "outputs": [
    {
     "data": {
      "text/plain": [
       "'Michael JacksonMichael JacksonMichael Jackson'"
      ]
     },
     "execution_count": 65,
     "metadata": {},
     "output_type": "execute_result"
    }
   ],
   "execution_count": 65
  },
  {
   "cell_type": "markdown",
   "source": [
    "Se puede crear una nueva cadena añadiendo otra a la original contenida en la variable. Concatenada con una nueva cadena, el resultado es otra diferente, Michael Jackson pasó a ser “Michael Jackson is the best”."
   ],
   "metadata": {
    "application/vnd.databricks.v1+cell": {
     "title": "",
     "showTitle": false,
     "inputWidgets": {},
     "nuid": "90c2c1d7-0c9c-46a5-ab5c-2d40eea40657"
    }
   }
  },
  {
   "cell_type": "code",
   "source": [
    "# Concatenar cadenas\n\nName = \"Michael Jackson\"\nName = Name + \" is the best\"\nName"
   ],
   "metadata": {
    "application/vnd.databricks.v1+cell": {
     "title": "",
     "showTitle": false,
     "inputWidgets": {},
     "nuid": "b575a573-242d-4252-a8c9-08e1c4923d06"
    },
    "ExecuteTime": {
     "end_time": "2025-08-11T14:35:37.159687Z",
     "start_time": "2025-08-11T14:35:37.153788Z"
    }
   },
   "outputs": [
    {
     "data": {
      "text/plain": [
       "'Michael Jackson is the best'"
      ]
     },
     "execution_count": 66,
     "metadata": {},
     "output_type": "execute_result"
    }
   ],
   "execution_count": 66
  },
  {
   "cell_type": "markdown",
   "source": [
    "<h2 id=\"escape\">Secuencias de Escape</h2>"
   ],
   "metadata": {
    "application/vnd.databricks.v1+cell": {
     "title": "",
     "showTitle": false,
     "inputWidgets": {},
     "nuid": "3d6fafbb-5f58-4dac-935d-53cee7005b15"
    }
   }
  },
  {
   "cell_type": "markdown",
   "source": [
    "Una barra invertida representa el inicio de una secuencia de escape. Estas representan cadenas que pudieran ser difíciles de introducir. Por ejemplo, una barra invertida seguida de una \"n\" representa un salto de línea. En la salida de pantalla tendremos un salto de línea cada vez que una barra invertida y la letra \"n\" sea encontrada."
   ],
   "metadata": {
    "application/vnd.databricks.v1+cell": {
     "title": "",
     "showTitle": false,
     "inputWidgets": {},
     "nuid": "c9b105cd-5a60-4dc0-895d-d44babb45a58"
    }
   }
  },
  {
   "cell_type": "code",
   "source": [
    "# Secuencia de escape para un Salto de línea\n\nprint(\" Michael Jackson \\n is the best\" )"
   ],
   "metadata": {
    "application/vnd.databricks.v1+cell": {
     "title": "",
     "showTitle": false,
     "inputWidgets": {},
     "nuid": "6c7578ab-35cd-4edc-8316-6a5bc0ddb17e"
    },
    "ExecuteTime": {
     "end_time": "2025-08-11T14:35:37.195132Z",
     "start_time": "2025-08-11T14:35:37.191187Z"
    }
   },
   "outputs": [
    {
     "name": "stdout",
     "output_type": "stream",
     "text": [
      " Michael Jackson \n",
      " is the best\n"
     ]
    }
   ],
   "execution_count": 67
  },
  {
   "cell_type": "markdown",
   "source": [
    "De igual forma, barra invertida \"t\" aplicará un espacio de tabulación:"
   ],
   "metadata": {
    "application/vnd.databricks.v1+cell": {
     "title": "",
     "showTitle": false,
     "inputWidgets": {},
     "nuid": "6b374585-947b-44e0-992b-365e5327e30b"
    }
   }
  },
  {
   "cell_type": "code",
   "source": [
    "# Secuencia de escape para un espacio de tabulación\n\nprint(\" Michael Jackson \\t is the best\" )"
   ],
   "metadata": {
    "application/vnd.databricks.v1+cell": {
     "title": "",
     "showTitle": false,
     "inputWidgets": {},
     "nuid": "84df098e-dd52-4542-adef-519de5c326d3"
    },
    "ExecuteTime": {
     "end_time": "2025-08-11T14:35:37.228323Z",
     "start_time": "2025-08-11T14:35:37.222778Z"
    }
   },
   "outputs": [
    {
     "name": "stdout",
     "output_type": "stream",
     "text": [
      " Michael Jackson \t is the best\n"
     ]
    }
   ],
   "execution_count": 68
  },
  {
   "cell_type": "markdown",
   "source": [
    "En caso de quieras que una barra invertida forme parte de una cadena, utiliza una doble barra invertida:"
   ],
   "metadata": {
    "application/vnd.databricks.v1+cell": {
     "title": "",
     "showTitle": false,
     "inputWidgets": {},
     "nuid": "5ef8b346-82cd-4bdc-8b5b-8001e827e6f1"
    }
   }
  },
  {
   "cell_type": "code",
   "source": [
    "# Incluir una barra invertida en una cadena\n\nprint(\" Michael Jackson \\\\ is the best\" )"
   ],
   "metadata": {
    "application/vnd.databricks.v1+cell": {
     "title": "",
     "showTitle": false,
     "inputWidgets": {},
     "nuid": "677d6591-409e-4b00-86f6-1f5233f4eef4"
    },
    "ExecuteTime": {
     "end_time": "2025-08-11T14:35:37.258422Z",
     "start_time": "2025-08-11T14:35:37.253334Z"
    }
   },
   "outputs": [
    {
     "name": "stdout",
     "output_type": "stream",
     "text": [
      " Michael Jackson \\ is the best\n"
     ]
    }
   ],
   "execution_count": 69
  },
  {
   "cell_type": "markdown",
   "source": [
    "Otra forma de hacer que se muestre la barra invertida de una cadena es colocando antes una “r”:"
   ],
   "metadata": {
    "application/vnd.databricks.v1+cell": {
     "title": "",
     "showTitle": false,
     "inputWidgets": {},
     "nuid": "540604f1-e9ef-4bcf-959c-20ba8ffd67c7"
    }
   }
  },
  {
   "cell_type": "code",
   "source": [
    "# La letra r le dirá a python que muestre la cadena tal cual e ignore lo que haya despues de la barra invertida\n\nprint(r\" Michael Jackson \\ is the best\" )"
   ],
   "metadata": {
    "application/vnd.databricks.v1+cell": {
     "title": "",
     "showTitle": false,
     "inputWidgets": {},
     "nuid": "3c299dd8-0c47-4f4b-9642-028300059880"
    },
    "ExecuteTime": {
     "end_time": "2025-08-11T14:35:37.296992Z",
     "start_time": "2025-08-11T14:35:37.293038Z"
    }
   },
   "outputs": [
    {
     "name": "stdout",
     "output_type": "stream",
     "text": [
      " Michael Jackson \\ is the best\n"
     ]
    }
   ],
   "execution_count": 70
  },
  {
   "cell_type": "markdown",
   "source": [
    "<h2 id=\"operations\">Operaciones con Cadenas</h2>"
   ],
   "metadata": {
    "application/vnd.databricks.v1+cell": {
     "title": "",
     "showTitle": false,
     "inputWidgets": {},
     "nuid": "aa0de817-641b-4893-a0ab-e0b7f66b5fbc"
    }
   }
  },
  {
   "cell_type": "markdown",
   "source": [
    "En Python existen muchos métodos para hacer operaciones con cadenas que pueden ser usados para manipular datos. Usaremos algunas operaciones básicas con cadenas."
   ],
   "metadata": {
    "application/vnd.databricks.v1+cell": {
     "title": "",
     "showTitle": false,
     "inputWidgets": {},
     "nuid": "e9eb402f-2691-460d-a980-7d7e3ec1c89c"
    }
   }
  },
  {
   "cell_type": "markdown",
   "source": [
    "Usemos ahora el método <code>upper</code>; este método convierte los caracteres de minúsculas a mayúsculas:"
   ],
   "metadata": {
    "application/vnd.databricks.v1+cell": {
     "title": "",
     "showTitle": false,
     "inputWidgets": {},
     "nuid": "17ffb4f6-e366-4b3e-9d21-a39d62b8f23c"
    }
   }
  },
  {
   "cell_type": "code",
   "source": [
    "# Convertir todos los caracteres de la cadena en mayúsculas\n\nA = \"Thriller is the sixth studio album\"\nprint(\"before upper:\", A)\nB = A.upper()\nprint(\"After upper:\", B)"
   ],
   "metadata": {
    "application/vnd.databricks.v1+cell": {
     "title": "",
     "showTitle": false,
     "inputWidgets": {},
     "nuid": "05622a9b-5c39-4f3c-9e47-734de5018ce4"
    },
    "ExecuteTime": {
     "end_time": "2025-08-11T14:35:37.337541Z",
     "start_time": "2025-08-11T14:35:37.331703Z"
    }
   },
   "outputs": [
    {
     "name": "stdout",
     "output_type": "stream",
     "text": [
      "before upper: Thriller is the sixth studio album\n",
      "After upper: THRILLER IS THE SIXTH STUDIO ALBUM\n"
     ]
    }
   ],
   "execution_count": 71
  },
  {
   "cell_type": "markdown",
   "source": [
    "El método <code>replace</code> reemplaza un segmento de la cadena, p.ej. una sub-cadena por una nueva. Introducimos primero la parte de la cadena que queremos cambiar. En el segundo argumento pondremos el segmento que reemplazara al anterior, el resultado será una nueva cadena con una de sus partes modificada:"
   ],
   "metadata": {
    "application/vnd.databricks.v1+cell": {
     "title": "",
     "showTitle": false,
     "inputWidgets": {},
     "nuid": "dc45b42d-0846-4696-abc9-e99a68b2e1be"
    }
   }
  },
  {
   "cell_type": "code",
   "source": [
    "# Reemplazar la vieja sub-cadena por una nueva\n\nA = \"Michael Jackson is the best\"\nB = A.replace('Michael', 'Janet')\nB"
   ],
   "metadata": {
    "application/vnd.databricks.v1+cell": {
     "title": "",
     "showTitle": false,
     "inputWidgets": {},
     "nuid": "8d0cdb35-4a72-42d7-a5d9-047a3daad3d4"
    },
    "ExecuteTime": {
     "end_time": "2025-08-11T14:35:37.378677Z",
     "start_time": "2025-08-11T14:35:37.372711Z"
    }
   },
   "outputs": [
    {
     "data": {
      "text/plain": [
       "'Janet Jackson is the best'"
      ]
     },
     "execution_count": 72,
     "metadata": {},
     "output_type": "execute_result"
    }
   ],
   "execution_count": 72
  },
  {
   "cell_type": "markdown",
   "source": [
    "La función del método <code>find</code> es encontrar una sub-cadena. El argumento del método es la sub-cadena que deseas encontrar, y el resultado será el numero del índice perteneciente al primer carácter de la sub-cadena. Podemos encontrar la sub-cadena <code>jack</code> o <code>el</code>."
   ],
   "metadata": {
    "application/vnd.databricks.v1+cell": {
     "title": "",
     "showTitle": false,
     "inputWidgets": {},
     "nuid": "b3577d50-6516-4fbf-8d4d-01639fc55e2f"
    }
   }
  },
  {
   "cell_type": "markdown",
   "source": [
    "<img src=\"https://s3-api.us-geo.objectstorage.softlayer.net/cf-courses-data/CognitiveClass/PY0101EN/Chapter%201/Images/StringsFind.png\" width=\"600\" align=\"center\" />"
   ],
   "metadata": {
    "application/vnd.databricks.v1+cell": {
     "title": "",
     "showTitle": false,
     "inputWidgets": {},
     "nuid": "bd08cea0-0d32-4dee-a7f6-82e927a03bff"
    }
   }
  },
  {
   "cell_type": "code",
   "source": [
    "# Encontrar la sub-cadena. El resultado será unicamente el índice del primer elemente de la sub-cadena dentro de la cadena principal.\n\nName = \"Michael Jackson\"\nName.find('el')"
   ],
   "metadata": {
    "application/vnd.databricks.v1+cell": {
     "title": "",
     "showTitle": false,
     "inputWidgets": {},
     "nuid": "c28dcd0f-71bb-4c4a-bc7b-46e94156ff92"
    },
    "ExecuteTime": {
     "end_time": "2025-08-11T14:35:37.423179Z",
     "start_time": "2025-08-11T14:35:37.415414Z"
    }
   },
   "outputs": [
    {
     "data": {
      "text/plain": [
       "5"
      ]
     },
     "execution_count": 73,
     "metadata": {},
     "output_type": "execute_result"
    }
   ],
   "execution_count": 73
  },
  {
   "cell_type": "code",
   "source": [
    "# Encotrar la sub-cadena dentro de la cadena.\n\nName.find('Jack')"
   ],
   "metadata": {
    "application/vnd.databricks.v1+cell": {
     "title": "",
     "showTitle": false,
     "inputWidgets": {},
     "nuid": "da2dc5bb-48b0-46d6-a5d6-c915ec0ab6e0"
    },
    "ExecuteTime": {
     "end_time": "2025-08-11T14:35:37.463214Z",
     "start_time": "2025-08-11T14:35:37.457136Z"
    }
   },
   "outputs": [
    {
     "data": {
      "text/plain": [
       "8"
      ]
     },
     "execution_count": 74,
     "metadata": {},
     "output_type": "execute_result"
    }
   ],
   "execution_count": 74
  },
  {
   "cell_type": "markdown",
   "source": [
    "Si la sub-cadena no se encuentra en la cadena principal el resultado será -1. Por ejemplo, la cadena 'Jasdfasdasdf' no es una sub-cadena:"
   ],
   "metadata": {
    "application/vnd.databricks.v1+cell": {
     "title": "",
     "showTitle": false,
     "inputWidgets": {},
     "nuid": "804d4f0e-acdc-4bba-bda1-49b2fb040bbd"
    }
   }
  },
  {
   "cell_type": "code",
   "source": [
    "# Si no se encuentra la sub-cadena en la cadena principal\n\nName.find('Jasdfasdasdf')"
   ],
   "metadata": {
    "collapsed": true,
    "application/vnd.databricks.v1+cell": {
     "title": "",
     "showTitle": false,
     "inputWidgets": {},
     "nuid": "70870236-7a8c-456c-b2e4-6f7bb79f8cb3"
    },
    "ExecuteTime": {
     "end_time": "2025-08-11T14:35:37.501109Z",
     "start_time": "2025-08-11T14:35:37.495031Z"
    }
   },
   "outputs": [
    {
     "data": {
      "text/plain": [
       "-1"
      ]
     },
     "execution_count": 75,
     "metadata": {},
     "output_type": "execute_result"
    }
   ],
   "execution_count": 75
  },
  {
   "cell_type": "markdown",
   "source": [
    "<h2 id=\"quiz\">Exámen sobre Cadenas</h2>"
   ],
   "metadata": {
    "application/vnd.databricks.v1+cell": {
     "title": "",
     "showTitle": false,
     "inputWidgets": {},
     "nuid": "8cfcb624-f5f8-4433-b094-7ad339e9d7ae"
    }
   }
  },
  {
   "cell_type": "markdown",
   "source": [
    "¿Cual es el valor de la variable <code>A</code> después de ejecutar el siguiente código?"
   ],
   "metadata": {
    "application/vnd.databricks.v1+cell": {
     "title": "",
     "showTitle": false,
     "inputWidgets": {},
     "nuid": "8cac69a8-c656-4388-8e47-091031ce304e"
    }
   }
  },
  {
   "cell_type": "code",
   "source": [
    "# Escribe abajo tu código y presiona Shift+Enter para ejecutarlo\n",
    "\n",
    "A = \"1\"\n",
    "print(A)"
   ],
   "metadata": {
    "collapsed": true,
    "application/vnd.databricks.v1+cell": {
     "title": "",
     "showTitle": false,
     "inputWidgets": {},
     "nuid": "ddb3b91a-cb39-4ff4-a4a3-dedfe6fb5ed9"
    },
    "ExecuteTime": {
     "end_time": "2025-08-11T14:35:37.529310Z",
     "start_time": "2025-08-11T14:35:37.525961Z"
    }
   },
   "outputs": [
    {
     "name": "stdout",
     "output_type": "stream",
     "text": [
      "1\n"
     ]
    }
   ],
   "execution_count": 76
  },
  {
   "cell_type": "markdown",
   "source": [
    "Haz doble click <b>aquí</b> para ver la solución.\n\n<!-- Your answer is below:\n\"1\"\n-->"
   ],
   "metadata": {
    "application/vnd.databricks.v1+cell": {
     "title": "",
     "showTitle": false,
     "inputWidgets": {},
     "nuid": "811acc28-880a-442e-875c-13b1437ec777"
    }
   }
  },
  {
   "cell_type": "markdown",
   "source": [
    "¿Cual es el valor de la variable <code>B</code> después de ejecutar el siguiente código?"
   ],
   "metadata": {
    "application/vnd.databricks.v1+cell": {
     "title": "",
     "showTitle": false,
     "inputWidgets": {},
     "nuid": "4a2b11b3-7994-4d9c-9c9c-fe09ff58516e"
    }
   }
  },
  {
   "cell_type": "code",
   "source": [
    "# Escribe abajo tu código y presiona Shift+Enter para ejecutarlo\n",
    "\n",
    "B = \"2\"\n",
    "print(B)"
   ],
   "metadata": {
    "collapsed": true,
    "application/vnd.databricks.v1+cell": {
     "title": "",
     "showTitle": false,
     "inputWidgets": {},
     "nuid": "b7b54f58-f3b7-4e87-bbe9-84fa5ef80eb7"
    },
    "ExecuteTime": {
     "end_time": "2025-08-11T14:35:37.566804Z",
     "start_time": "2025-08-11T14:35:37.561882Z"
    }
   },
   "outputs": [
    {
     "name": "stdout",
     "output_type": "stream",
     "text": [
      "2\n"
     ]
    }
   ],
   "execution_count": 77
  },
  {
   "cell_type": "markdown",
   "source": [
    "Haz doble click <b>aquí</b> para ver la solución.\n\n<!-- Your answer is below:\n\"2\"\n-->"
   ],
   "metadata": {
    "application/vnd.databricks.v1+cell": {
     "title": "",
     "showTitle": false,
     "inputWidgets": {},
     "nuid": "e23964d1-cdac-43c4-ac42-855cc74f0eba"
    }
   }
  },
  {
   "cell_type": "markdown",
   "source": [
    "¿Cual es el valor de la variable <code>C</code> después de ejecutar el siguiente código?"
   ],
   "metadata": {
    "application/vnd.databricks.v1+cell": {
     "title": "",
     "showTitle": false,
     "inputWidgets": {},
     "nuid": "956a96c3-9fdd-45bf-95f4-3bb6b019a3be"
    }
   }
  },
  {
   "cell_type": "code",
   "source": [
    "# Escribe abajo tu código y presiona Shift+Enter para ejecutarlo\n",
    "\n",
    "C = A + B\n",
    "\n",
    "print(C)"
   ],
   "metadata": {
    "application/vnd.databricks.v1+cell": {
     "title": "",
     "showTitle": false,
     "inputWidgets": {},
     "nuid": "33186c3e-73c4-4983-ad57-127675d91e4b"
    },
    "ExecuteTime": {
     "end_time": "2025-08-11T14:35:37.588300Z",
     "start_time": "2025-08-11T14:35:37.584173Z"
    }
   },
   "outputs": [
    {
     "name": "stdout",
     "output_type": "stream",
     "text": [
      "12\n"
     ]
    }
   ],
   "execution_count": 78
  },
  {
   "cell_type": "markdown",
   "source": [
    "Haz doble click <b>aquí</b> para ver la solución.\n\n<!-- Your answer is below:\n\"12\"\n-->"
   ],
   "metadata": {
    "application/vnd.databricks.v1+cell": {
     "title": "",
     "showTitle": false,
     "inputWidgets": {},
     "nuid": "b703193a-ff7c-4bf2-8c03-c814e4cf9f3a"
    }
   }
  },
  {
   "cell_type": "markdown",
   "source": [
    "En la variable <code>D</code> haz uso del slicing para imprimir solo los primeros tres elementos:"
   ],
   "metadata": {
    "application/vnd.databricks.v1+cell": {
     "title": "",
     "showTitle": false,
     "inputWidgets": {},
     "nuid": "1ed60bff-748e-4c67-8307-04520da43b97"
    }
   }
  },
  {
   "cell_type": "code",
   "source": [
    "# Escribe abajo tu código y presiona Shift+Enter para ejecutarlo\n",
    "\n",
    "D = \"ABCDEFG\"\n",
    "print(D[0:3])"
   ],
   "metadata": {
    "application/vnd.databricks.v1+cell": {
     "title": "",
     "showTitle": false,
     "inputWidgets": {},
     "nuid": "0bbc3088-0e6a-4ef3-ae51-f776a7f079ad"
    },
    "ExecuteTime": {
     "end_time": "2025-08-11T14:35:37.627547Z",
     "start_time": "2025-08-11T14:35:37.622731Z"
    }
   },
   "outputs": [
    {
     "name": "stdout",
     "output_type": "stream",
     "text": [
      "ABC\n"
     ]
    }
   ],
   "execution_count": 79
  },
  {
   "cell_type": "markdown",
   "source": [
    "Haz doble click <b>aquí</b> para ver la solución.\n\n<!-- Your answer is below:\nprint(D[:3]) \n# or \nprint(D[0:3])\n-->"
   ],
   "metadata": {
    "application/vnd.databricks.v1+cell": {
     "title": "",
     "showTitle": false,
     "inputWidgets": {},
     "nuid": "a13e5374-233c-4bd8-98c7-68393522680a"
    }
   }
  },
  {
   "cell_type": "markdown",
   "source": [
    "Usa un valor de stride de 2 para imprimir cada segundo elemento de la cadena <code>E</code>:"
   ],
   "metadata": {
    "application/vnd.databricks.v1+cell": {
     "title": "",
     "showTitle": false,
     "inputWidgets": {},
     "nuid": "d4f53ebb-1961-48e4-9349-1a1cb3ed43ac"
    }
   }
  },
  {
   "cell_type": "code",
   "source": [
    "# Escribe abajo tu código y presiona Shift+Enter para ejecutarlo\n",
    "\n",
    "E = 'clocrkr1e1c1t'\n",
    "\n",
    "print(E[::2])"
   ],
   "metadata": {
    "collapsed": true,
    "application/vnd.databricks.v1+cell": {
     "title": "",
     "showTitle": false,
     "inputWidgets": {},
     "nuid": "f317b44a-0374-4bce-a3bc-6b0d29a1c342"
    },
    "ExecuteTime": {
     "end_time": "2025-08-11T14:35:37.671580Z",
     "start_time": "2025-08-11T14:35:37.666486Z"
    }
   },
   "outputs": [
    {
     "name": "stdout",
     "output_type": "stream",
     "text": [
      "correct\n"
     ]
    }
   ],
   "execution_count": 80
  },
  {
   "cell_type": "markdown",
   "source": [
    "Haz doble click <b>aquí</b> para ver la solución.\n<!-- Your answer is below:\nprint(E[::2])\n-->"
   ],
   "metadata": {
    "application/vnd.databricks.v1+cell": {
     "title": "",
     "showTitle": false,
     "inputWidgets": {},
     "nuid": "4e105545-8319-47d1-922f-eac36fe75143"
    }
   }
  },
  {
   "cell_type": "markdown",
   "source": [
    "Imprime una barra invertida:"
   ],
   "metadata": {
    "application/vnd.databricks.v1+cell": {
     "title": "",
     "showTitle": false,
     "inputWidgets": {},
     "nuid": "2169c64c-7206-4937-a581-0526a875b9d9"
    }
   }
  },
  {
   "cell_type": "code",
   "source": [
    "# Escribe abajo tu código y presiona Shift+Enter para ejecutarlo\n",
    "print(\"\\\\\")"
   ],
   "metadata": {
    "application/vnd.databricks.v1+cell": {
     "title": "",
     "showTitle": false,
     "inputWidgets": {},
     "nuid": "87af61d8-086c-4ca5-8684-c5573bac909c"
    },
    "ExecuteTime": {
     "end_time": "2025-08-11T14:35:37.697588Z",
     "start_time": "2025-08-11T14:35:37.693340Z"
    }
   },
   "outputs": [
    {
     "name": "stdout",
     "output_type": "stream",
     "text": [
      "\\\n"
     ]
    }
   ],
   "execution_count": 81
  },
  {
   "cell_type": "markdown",
   "source": [
    "Haz doble click <b>aquí</b> para ver la solución.\n<!-- Your answer is below:\nprint(\"\\\\\")\nor\nprint(r\" \\ \")\n-->"
   ],
   "metadata": {
    "application/vnd.databricks.v1+cell": {
     "title": "",
     "showTitle": false,
     "inputWidgets": {},
     "nuid": "30b509f5-df31-4eff-8534-2604cf6405b1"
    }
   }
  },
  {
   "cell_type": "markdown",
   "source": [
    "Convierte el mayúsculas el contenido de la variable <code>F</code>:"
   ],
   "metadata": {
    "application/vnd.databricks.v1+cell": {
     "title": "",
     "showTitle": false,
     "inputWidgets": {},
     "nuid": "6814f6cf-b035-4461-b318-7d7471cbcf94"
    }
   }
  },
  {
   "cell_type": "code",
   "source": [
    "# Escribe abajo tu código y presiona Shift+Enter para ejecutarlo\n",
    "\n",
    "F = \"You are wrong\"\n",
    "F.upper()"
   ],
   "metadata": {
    "application/vnd.databricks.v1+cell": {
     "title": "",
     "showTitle": false,
     "inputWidgets": {},
     "nuid": "034ad3a9-1ef9-419d-9362-8fd0286e5f47"
    },
    "ExecuteTime": {
     "end_time": "2025-08-11T14:35:37.729538Z",
     "start_time": "2025-08-11T14:35:37.724625Z"
    }
   },
   "outputs": [
    {
     "data": {
      "text/plain": [
       "'YOU ARE WRONG'"
      ]
     },
     "execution_count": 82,
     "metadata": {},
     "output_type": "execute_result"
    }
   ],
   "execution_count": 82
  },
  {
   "cell_type": "markdown",
   "source": [
    "Haz doble click <b>aquí</b> para ver la solución.\n\n<!-- Your answer is below:\nF.upper()\n-->"
   ],
   "metadata": {
    "application/vnd.databricks.v1+cell": {
     "title": "",
     "showTitle": false,
     "inputWidgets": {},
     "nuid": "59e29f55-1248-4d84-bcc5-e7fb01ef061f"
    }
   }
  },
  {
   "cell_type": "markdown",
   "source": [
    "En la variable <code>G</code>, encuentra el primer índice de la sub-cadena <code>snow</code>:"
   ],
   "metadata": {
    "application/vnd.databricks.v1+cell": {
     "title": "",
     "showTitle": false,
     "inputWidgets": {},
     "nuid": "89af9572-7b2e-4344-b61b-e832bddb897c"
    }
   }
  },
  {
   "cell_type": "code",
   "source": [
    "# Escribe abajo tu código y presiona Shift+Enter para ejecutarlo\n",
    "\n",
    "G = \"Mary had a little lamb Little lamb, little lamb Mary had a little lamb \\\n",
    "Its fleece was white as snow And everywhere that Mary went Mary went, Mary went \\\n",
    "Everywhere that Mary went The lamb was sure to go\"\n",
    "\n",
    "G.find(\"snow\")"
   ],
   "metadata": {
    "application/vnd.databricks.v1+cell": {
     "title": "",
     "showTitle": false,
     "inputWidgets": {},
     "nuid": "721a128c-d297-4149-bbdd-646140d2dd59"
    },
    "ExecuteTime": {
     "end_time": "2025-08-11T14:35:37.758523Z",
     "start_time": "2025-08-11T14:35:37.749547Z"
    }
   },
   "outputs": [
    {
     "data": {
      "text/plain": [
       "95"
      ]
     },
     "execution_count": 83,
     "metadata": {},
     "output_type": "execute_result"
    }
   ],
   "execution_count": 83
  },
  {
   "cell_type": "markdown",
   "source": [
    "Haz doble click <b>aquí</b> para ver la solución.\n\n<!-- Your answer is below:\nG.find(\"snow\")\n-->"
   ],
   "metadata": {
    "application/vnd.databricks.v1+cell": {
     "title": "",
     "showTitle": false,
     "inputWidgets": {},
     "nuid": "09d9aaf0-769c-4a99-b68f-79d063bc676c"
    }
   }
  },
  {
   "cell_type": "markdown",
   "source": [
    "En la variable <code>G</code>, reemplaza la sub-cadena <code>Mary</code> con <code>Bob</code>:"
   ],
   "metadata": {
    "application/vnd.databricks.v1+cell": {
     "title": "",
     "showTitle": false,
     "inputWidgets": {},
     "nuid": "157b212b-6b79-4fe4-9284-f9e0e1f3dcd1"
    }
   }
  },
  {
   "cell_type": "code",
   "source": [
    "# Escribe abajo tu código y presiona Shift+Enter para ejecutarlo\n",
    "G.replace(\"Mary\", \"Bob\")"
   ],
   "metadata": {
    "application/vnd.databricks.v1+cell": {
     "title": "",
     "showTitle": false,
     "inputWidgets": {},
     "nuid": "ea8ee7aa-cedd-40c2-8d01-35f09d62109d"
    },
    "ExecuteTime": {
     "end_time": "2025-08-11T14:35:37.780522Z",
     "start_time": "2025-08-11T14:35:37.774520Z"
    }
   },
   "outputs": [
    {
     "data": {
      "text/plain": [
       "'Bob had a little lamb Little lamb, little lamb Bob had a little lamb Its fleece was white as snow And everywhere that Bob went Bob went, Bob went Everywhere that Bob went The lamb was sure to go'"
      ]
     },
     "execution_count": 84,
     "metadata": {},
     "output_type": "execute_result"
    }
   ],
   "execution_count": 84
  },
  {
   "cell_type": "markdown",
   "source": [
    "Haz doble click <b>aquí</b> para ver la solución.\n\n<!-- Your answer is below:\nG.replace(\"Mary\", \"Bob\")\n-->"
   ],
   "metadata": {
    "application/vnd.databricks.v1+cell": {
     "title": "",
     "showTitle": false,
     "inputWidgets": {},
     "nuid": "514790a0-22d4-4593-9c3a-09f88054b89e"
    }
   }
  }
 ],
 "metadata": {
  "kernelspec": {
   "display_name": "Python 3",
   "language": "python",
   "name": "python3"
  },
  "language_info": {
   "mimetype": "text/x-python",
   "name": "python",
   "pygments_lexer": "ipython3",
   "codemirror_mode": {
    "name": "ipython",
    "version": 3
   },
   "version": "3.8.3",
   "nbconvert_exporter": "python",
   "file_extension": ".py"
  },
  "application/vnd.databricks.v1+notebook": {
   "notebookName": "01-Python-Cadenas",
   "dashboards": [],
   "notebookMetadata": {
    "pythonIndentUnit": 2
   },
   "language": "python",
   "widgets": {},
   "notebookOrigID": 3377342904741170
  }
 },
 "nbformat": 4,
 "nbformat_minor": 0
}
