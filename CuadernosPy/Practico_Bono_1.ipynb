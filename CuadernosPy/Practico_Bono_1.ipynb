{
 "cells": [
  {
   "metadata": {},
   "cell_type": "markdown",
   "source": [
    "Nombre : Sergio Felipe Barreto Cifuentes\n",
    "\n",
    "Fecha Inicio: 09 - 08 - 2025\n",
    "\n",
    "Fecha Actual: 11 - 08 - 2025"
   ]
  },
  {
   "cell_type": "markdown",
   "metadata": {
    "id": "dkfTfb7kKfO8"
   },
   "source": [
    "## CALENTAMIENTO:"
   ]
  },
  {
   "cell_type": "markdown",
   "metadata": {
    "id": "jKNiFouRKfO8"
   },
   "source": [
    "#### MENOR DE DOS PARES: Escriba una función que devuelva el menor de dos números dados *si* ambos números son pares, pero devuelva el mayor si uno o ambos números son impares\n",
    "    lesser_of_two_evens(2,4) --> 2\n",
    "    lesser_of_two_evens(2,5) --> 5"
   ]
  },
  {
   "cell_type": "code",
   "metadata": {
    "id": "HF8_a_2IKfO8",
    "ExecuteTime": {
     "end_time": "2025-08-11T15:22:07.018417Z",
     "start_time": "2025-08-11T15:22:07.012627Z"
    }
   },
   "source": [
    "def lesser_of_two_evens(a, b):\n",
    "    # Verifica si ambos números son pares\n",
    "    if a % 2 == 0 and b % 2 == 0:\n",
    "        return min(a, b)  # Devuelve el menor si ambos son pares\n",
    "    else:\n",
    "        return max(a, b)  # Devuelve el mayor si alguno es impar\n"
   ],
   "outputs": [],
   "execution_count": 1
  },
  {
   "cell_type": "code",
   "metadata": {
    "id": "fOv0K9mXKfO9",
    "outputId": "b22f779c-6706-4ede-95cc-c140ad565be1",
    "ExecuteTime": {
     "end_time": "2025-08-11T15:22:07.036019Z",
     "start_time": "2025-08-11T15:22:07.027424Z"
    }
   },
   "source": [
    "# Revisión\n",
    "lesser_of_two_evens(2,4)"
   ],
   "outputs": [
    {
     "data": {
      "text/plain": [
       "2"
      ]
     },
     "execution_count": 2,
     "metadata": {},
     "output_type": "execute_result"
    }
   ],
   "execution_count": 2
  },
  {
   "cell_type": "code",
   "metadata": {
    "id": "UMKYl4NgKfO-",
    "outputId": "9c980845-33dc-4af5-e00f-941bc34c9158",
    "ExecuteTime": {
     "end_time": "2025-08-11T15:22:07.052031Z",
     "start_time": "2025-08-11T15:22:07.047032Z"
    }
   },
   "source": [
    "# Revisión\n",
    "lesser_of_two_evens(2,5)"
   ],
   "outputs": [
    {
     "data": {
      "text/plain": [
       "5"
      ]
     },
     "execution_count": 3,
     "metadata": {},
     "output_type": "execute_result"
    }
   ],
   "execution_count": 3
  },
  {
   "cell_type": "markdown",
   "metadata": {
    "id": "ZdEE37WBKfO-"
   },
   "source": [
    "#### GALLETAS DE ANIMALES: Escribir una función que toma una cadena de dos palabras y devuelve True si ambas palabras comienzan con la misma letra\n",
    "    animal_crackers('Ciudad Calor') --> True\n",
    "    animal_crackers('Lugar Frio') --> False"
   ]
  },
  {
   "cell_type": "code",
   "metadata": {
    "id": "6JEJK4lcKfO_",
    "ExecuteTime": {
     "end_time": "2025-08-11T15:22:07.065526Z",
     "start_time": "2025-08-11T15:22:07.061432Z"
    }
   },
   "source": [
    "def animal_crackers(text):\n",
    "    # Divide el texto en una lista de palabras\n",
    "    palabras = text.split()\n",
    "    # Compara la primera letra de ambas palabras (en minúsculas)\n",
    "    return palabras[0][0].lower() == palabras[1][0].lower()"
   ],
   "outputs": [],
   "execution_count": 4
  },
  {
   "cell_type": "code",
   "metadata": {
    "id": "RZp5N4-6KfO_",
    "outputId": "6d328ca9-266d-48c7-f676-b754ef7ed006",
    "ExecuteTime": {
     "end_time": "2025-08-11T15:22:07.084145Z",
     "start_time": "2025-08-11T15:22:07.077071Z"
    }
   },
   "source": [
    "# Revisión\n",
    "animal_crackers('Ciudad Calor')"
   ],
   "outputs": [
    {
     "data": {
      "text/plain": [
       "True"
      ]
     },
     "execution_count": 5,
     "metadata": {},
     "output_type": "execute_result"
    }
   ],
   "execution_count": 5
  },
  {
   "cell_type": "code",
   "metadata": {
    "id": "zaGYt5L8KfO_",
    "outputId": "4b223142-b306-4b30-ac82-0231c9bba8ae",
    "ExecuteTime": {
     "end_time": "2025-08-11T15:22:07.104694Z",
     "start_time": "2025-08-11T15:22:07.097967Z"
    }
   },
   "source": [
    "# Revisión\n",
    "animal_crackers('Lugar Frio')"
   ],
   "outputs": [
    {
     "data": {
      "text/plain": [
       "False"
      ]
     },
     "execution_count": 6,
     "metadata": {},
     "output_type": "execute_result"
    }
   ],
   "execution_count": 6
  },
  {
   "cell_type": "markdown",
   "metadata": {
    "id": "Xln0rzZ3KfPA"
   },
   "source": [
    "#### HACE VEINTE: dados dos enteros, devuelve True si la suma de los enteros es 20 o si uno de los enteros es 20. De lo contrario, devuelve False\n",
    "\n",
    "    makes_twenty(20,10) --> True\n",
    "    makes_twenty(12,8) --> True\n",
    "    makes_twenty(2,3) --> False"
   ]
  },
  {
   "cell_type": "code",
   "metadata": {
    "id": "wBbR7Xx_KfPA",
    "ExecuteTime": {
     "end_time": "2025-08-11T15:22:07.122657Z",
     "start_time": "2025-08-11T15:22:07.119203Z"
    }
   },
   "source": [
    "def makes_twenty(n1, n2):\n",
    "    # Retorna True si alguno de los números es 20 o si la suma es 20\n",
    "    return n1 == 20 or n2 == 20 or (n1 + n2 == 20)"
   ],
   "outputs": [],
   "execution_count": 7
  },
  {
   "cell_type": "code",
   "metadata": {
    "id": "6jHiJxnwKfPA",
    "outputId": "9a14cffb-0f72-48c1-8619-7cfe26264915",
    "ExecuteTime": {
     "end_time": "2025-08-11T15:22:07.138869Z",
     "start_time": "2025-08-11T15:22:07.131664Z"
    }
   },
   "source": [
    "# Revisión\n",
    "makes_twenty(20,10)"
   ],
   "outputs": [
    {
     "data": {
      "text/plain": [
       "True"
      ]
     },
     "execution_count": 8,
     "metadata": {},
     "output_type": "execute_result"
    }
   ],
   "execution_count": 8
  },
  {
   "cell_type": "code",
   "metadata": {
    "id": "zZIdlGLeKfPA",
    "outputId": "9272422f-c012-4f4e-d8e6-a64deeaafffe",
    "ExecuteTime": {
     "end_time": "2025-08-11T15:22:07.154935Z",
     "start_time": "2025-08-11T15:22:07.149884Z"
    }
   },
   "source": [
    "# Revisión\n",
    "makes_twenty(2,3)"
   ],
   "outputs": [
    {
     "data": {
      "text/plain": [
       "False"
      ]
     },
     "execution_count": 9,
     "metadata": {},
     "output_type": "execute_result"
    }
   ],
   "execution_count": 9
  },
  {
   "cell_type": "code",
   "metadata": {
    "id": "BlJKTZX9KfPA",
    "outputId": "b973ebc9-e1c8-4a27-be98-968b062356c8",
    "ExecuteTime": {
     "end_time": "2025-08-11T15:22:07.171973Z",
     "start_time": "2025-08-11T15:22:07.166951Z"
    }
   },
   "source": [
    "makes_twenty(12,8)"
   ],
   "outputs": [
    {
     "data": {
      "text/plain": [
       "True"
      ]
     },
     "execution_count": 10,
     "metadata": {},
     "output_type": "execute_result"
    }
   ],
   "execution_count": 10
  },
  {
   "cell_type": "markdown",
   "metadata": {
    "id": "d3Fka2vRKfPB"
   },
   "source": [
    "# Nivel 1"
   ]
  },
  {
   "cell_type": "markdown",
   "metadata": {
    "id": "H_e_DMbnKfPB"
   },
   "source": [
    "#### MAYÚSCULAS: Escribir una función que haga mayúscula la primera y cuarta letra de una cadena de texto\n",
    "     \n",
    "    old_macdonald('macdonald') --> MacDonald\n",
    "    \n",
    "Note: `'macdonald'.capitalize()` returns `'Macdonald'`"
   ]
  },
  {
   "cell_type": "code",
   "metadata": {
    "id": "ZiXJrY8uKfPB",
    "ExecuteTime": {
     "end_time": "2025-08-11T15:22:07.185450Z",
     "start_time": "2025-08-11T15:22:07.181446Z"
    }
   },
   "source": [
    "def old_macdonald(name):\n",
    "    # Verifica si la longitud de la cadena es mayor a 3\n",
    "    if len(name) > 3:\n",
    "        # Capitaliza los primeros tres caracteres y luego el resto\n",
    "        return name[:3].capitalize() + name[3:].capitalize()\n",
    "    else:\n",
    "        # Si la cadena es corta, solo la capitaliza\n",
    "        return name.capitalize()"
   ],
   "outputs": [],
   "execution_count": 11
  },
  {
   "cell_type": "code",
   "metadata": {
    "id": "wtu_baYIKfPB",
    "outputId": "4e8b6e19-7e9e-4c6d-99df-63ec5d984748",
    "ExecuteTime": {
     "end_time": "2025-08-11T15:22:07.202033Z",
     "start_time": "2025-08-11T15:22:07.197516Z"
    }
   },
   "source": [
    "# Check\n",
    "old_macdonald('macdonald')"
   ],
   "outputs": [
    {
     "data": {
      "text/plain": [
       "'MacDonald'"
      ]
     },
     "execution_count": 12,
     "metadata": {},
     "output_type": "execute_result"
    }
   ],
   "execution_count": 12
  },
  {
   "cell_type": "markdown",
   "metadata": {
    "id": "E24LlJo1KfPC"
   },
   "source": [
    "#### REVERSA: Dada una oración, retornar la misma oración pero en reversa\n",
    "\n",
    "    master_yoda('I am home') --> 'home am I'\n",
    "    master_yoda('We are ready') --> 'ready are We'\n",
    "    \n",
    "Note: Revisar método .join()\n",
    "\n",
    "    >>> \"--\".join(['a','b','c'])\n",
    "    >>> 'a--b--c'\n",
    "\n",
    "Resultado de .join():\n",
    "\n",
    "    >>> \" \".join(['Hello','world'])\n",
    "    >>> \"Hello world\""
   ]
  },
  {
   "cell_type": "code",
   "metadata": {
    "id": "6K4nw15nKfPC",
    "ExecuteTime": {
     "end_time": "2025-08-11T15:22:07.217602Z",
     "start_time": "2025-08-11T15:22:07.213555Z"
    }
   },
   "source": [
    "def master_yoda(text):\n",
    "    # Divide el texto en palabras, invierte el orden y las une con espacios\n",
    "    return ' '.join(text.split()[::-1])"
   ],
   "outputs": [],
   "execution_count": 13
  },
  {
   "cell_type": "code",
   "metadata": {
    "id": "BXdDWf0BKfPC",
    "outputId": "4e2b64a8-2717-4afd-e283-ecd1fa6b6cbe",
    "ExecuteTime": {
     "end_time": "2025-08-11T15:22:07.231566Z",
     "start_time": "2025-08-11T15:22:07.227614Z"
    }
   },
   "source": [
    "######"
   ],
   "outputs": [],
   "execution_count": 14
  },
  {
   "cell_type": "code",
   "metadata": {
    "id": "2DqSErszKfPD",
    "outputId": "d49d92dd-11d7-4b81-c69d-c8695193eb19",
    "ExecuteTime": {
     "end_time": "2025-08-11T15:22:07.246471Z",
     "start_time": "2025-08-11T15:22:07.240573Z"
    }
   },
   "source": [
    "# Revisión\n",
    "master_yoda('I am home')"
   ],
   "outputs": [
    {
     "data": {
      "text/plain": [
       "'home am I'"
      ]
     },
     "execution_count": 15,
     "metadata": {},
     "output_type": "execute_result"
    }
   ],
   "execution_count": 15
  },
  {
   "cell_type": "code",
   "metadata": {
    "id": "efa9vdLSKfPD",
    "outputId": "4837b3d4-249c-4803-8b64-93b3ca51fc6d",
    "ExecuteTime": {
     "end_time": "2025-08-11T15:22:07.262746Z",
     "start_time": "2025-08-11T15:22:07.257483Z"
    }
   },
   "source": [
    "# Revisión\n",
    "master_yoda('We are ready')"
   ],
   "outputs": [
    {
     "data": {
      "text/plain": [
       "'ready are We'"
      ]
     },
     "execution_count": 16,
     "metadata": {},
     "output_type": "execute_result"
    }
   ],
   "execution_count": 16
  },
  {
   "cell_type": "markdown",
   "metadata": {
    "id": "9jquqRm7KfPE"
   },
   "source": [
    "# Nivel 2"
   ]
  },
  {
   "cell_type": "markdown",
   "metadata": {
    "id": "S5V3SVDGKfPE"
   },
   "source": [
    "#### PROBLEMA 33: \n",
    "\n",
    "Dada una lista de enteros, retornar True si el arreglo tinene un  3  seguido por un  3 .\n",
    "\n",
    "    has_33([1, 3, 3]) → True\n",
    "    has_33([1, 3, 1, 3]) → False\n",
    "    has_33([3, 1, 3]) → False"
   ]
  },
  {
   "cell_type": "code",
   "metadata": {
    "id": "9eU2-UZvKfPE",
    "ExecuteTime": {
     "end_time": "2025-08-11T15:22:07.276772Z",
     "start_time": "2025-08-11T15:22:07.271755Z"
    }
   },
   "source": [
    "def has_33(nums):\n",
    "    # Recorre la lista hasta el penúltimo elemento\n",
    "    for i in range(len(nums) - 1):\n",
    "        # Verifica si el elemento actual y el siguiente son ambos 3\n",
    "        if nums[i] == 3 and nums[i + 1] == 3:\n",
    "            return True\n",
    "    # Si no encuentra dos 3 seguidos, retorna False\n",
    "    return False"
   ],
   "outputs": [],
   "execution_count": 17
  },
  {
   "cell_type": "code",
   "metadata": {
    "id": "Yca9X7MAKfPE",
    "outputId": "42c708a5-04ed-43e3-e8ec-295f48027f0c",
    "ExecuteTime": {
     "end_time": "2025-08-11T15:22:07.292144Z",
     "start_time": "2025-08-11T15:22:07.285964Z"
    }
   },
   "source": [
    "# Revisión\n",
    "has_33([1, 3, 3])"
   ],
   "outputs": [
    {
     "data": {
      "text/plain": [
       "True"
      ]
     },
     "execution_count": 18,
     "metadata": {},
     "output_type": "execute_result"
    }
   ],
   "execution_count": 18
  },
  {
   "cell_type": "code",
   "metadata": {
    "id": "XSw1ml9dKfPE",
    "outputId": "57e4fb93-4218-493c-992b-db6ebba0c5c1",
    "ExecuteTime": {
     "end_time": "2025-08-11T15:22:07.306699Z",
     "start_time": "2025-08-11T15:22:07.301664Z"
    }
   },
   "source": [
    "# Revisión\n",
    "has_33([1, 3, 1, 3])"
   ],
   "outputs": [
    {
     "data": {
      "text/plain": [
       "False"
      ]
     },
     "execution_count": 19,
     "metadata": {},
     "output_type": "execute_result"
    }
   ],
   "execution_count": 19
  },
  {
   "cell_type": "code",
   "metadata": {
    "id": "ZKcJgxc5KfPF",
    "outputId": "34957a99-b52c-44cd-bc7c-b0e5158ccf23",
    "ExecuteTime": {
     "end_time": "2025-08-11T15:22:07.321020Z",
     "start_time": "2025-08-11T15:22:07.316905Z"
    }
   },
   "source": [
    "# Revisión\n",
    "has_33([3, 1, 3])"
   ],
   "outputs": [
    {
     "data": {
      "text/plain": [
       "False"
      ]
     },
     "execution_count": 20,
     "metadata": {},
     "output_type": "execute_result"
    }
   ],
   "execution_count": 20
  },
  {
   "cell_type": "markdown",
   "metadata": {
    "id": "n-Vj63BpKfPF"
   },
   "source": [
    "#### REPLICADOR: Dada una cadena, devuelve una cadena donde por cada carácter en el original hay tres caracteres REPETIDOS\n",
    "    paper_doll('Hello') --> 'HHHeeellllllooo'\n",
    "    paper_doll('Mississippi') --> 'MMMiiissssssiiippppppiii'"
   ]
  },
  {
   "cell_type": "code",
   "metadata": {
    "id": "F6ivbyiXKfPF",
    "ExecuteTime": {
     "end_time": "2025-08-11T15:22:07.336017Z",
     "start_time": "2025-08-11T15:22:07.329029Z"
    }
   },
   "source": [
    "def paper_doll(text):\n",
    "    return ''.join([ch * 3 for ch in text])"
   ],
   "outputs": [],
   "execution_count": 21
  },
  {
   "cell_type": "code",
   "metadata": {
    "id": "h330yUbKKfPF",
    "outputId": "169efcdf-a2d5-4eaa-d0f4-295f84a4f5e9",
    "ExecuteTime": {
     "end_time": "2025-08-11T15:22:07.351024Z",
     "start_time": "2025-08-11T15:22:07.344031Z"
    }
   },
   "source": [
    "# Check\n",
    "paper_doll('Hello')"
   ],
   "outputs": [
    {
     "data": {
      "text/plain": [
       "'HHHeeellllllooo'"
      ]
     },
     "execution_count": 22,
     "metadata": {},
     "output_type": "execute_result"
    }
   ],
   "execution_count": 22
  },
  {
   "cell_type": "code",
   "metadata": {
    "id": "sZTw8FlZKfPF",
    "outputId": "e7dc07c0-e048-4b25-ffcb-a5e4aeeebb42",
    "ExecuteTime": {
     "end_time": "2025-08-11T15:22:07.365541Z",
     "start_time": "2025-08-11T15:22:07.359548Z"
    }
   },
   "source": [
    "# Check\n",
    "paper_doll('Mississippi')"
   ],
   "outputs": [
    {
     "data": {
      "text/plain": [
       "'MMMiiissssssiiissssssiiippppppiii'"
      ]
     },
     "execution_count": 23,
     "metadata": {},
     "output_type": "execute_result"
    }
   ],
   "execution_count": 23
  },
  {
   "cell_type": "markdown",
   "metadata": {
    "id": "OJfMlQRcKfPF"
   },
   "source": [
    "#### BLACKJACK: Dados tres enteros entre 1 y 11, si su suma es menor o igual a 21, devuelve su suma. Si su suma excede 21 *y* hay un once, reduce la suma total en 10. Finalmente, si la suma (incluso después del ajuste) excede 21, devuelve 'BUST'\n",
    "    blackjack(5,6,7) --> 18\n",
    "    blackjack(9,9,9) --> 'BUST'\n",
    "    blackjack(9,9,11) --> 19"
   ]
  },
  {
   "cell_type": "code",
   "metadata": {
    "id": "REJRcYJmKfPF",
    "ExecuteTime": {
     "end_time": "2025-08-11T15:22:07.379590Z",
     "start_time": "2025-08-11T15:22:07.375040Z"
    }
   },
   "source": [
    "#Este código define una función que simula la suma de cartas en el juego Blackjack\n",
    "\n",
    "def blackjack(a, b, c):\n",
    "    # uma tres números; si el total es menor o igual a 21\n",
    "    total = a + b + c\n",
    "    if total <= 21:\n",
    "        return total # lo retorna\n",
    "    elif 11 in (a, b, c) and total - 10 <= 21: # Si el total supera 21 pero hay un 11 y al restar 10 el total es 21 o menos, retorna el total ajustado.\n",
    "        return total - 10\n",
    "    else:\n",
    "        return 'BUST' # Si ninguna condición se cumple, retorna 'BUST'."
   ],
   "outputs": [],
   "execution_count": 24
  },
  {
   "cell_type": "code",
   "metadata": {
    "id": "D_sHnddYKfPF",
    "outputId": "fc7e06b6-dedc-44db-967b-d2bcae8566da",
    "ExecuteTime": {
     "end_time": "2025-08-11T15:22:07.394665Z",
     "start_time": "2025-08-11T15:22:07.387605Z"
    }
   },
   "source": [
    "# Revisión\n",
    "blackjack(5,6,7)"
   ],
   "outputs": [
    {
     "data": {
      "text/plain": [
       "18"
      ]
     },
     "execution_count": 25,
     "metadata": {},
     "output_type": "execute_result"
    }
   ],
   "execution_count": 25
  },
  {
   "cell_type": "code",
   "metadata": {
    "id": "y0713b36KfPF",
    "outputId": "278287b5-0843-4056-da0b-ed5d8b382b7d",
    "ExecuteTime": {
     "end_time": "2025-08-11T15:22:07.409081Z",
     "start_time": "2025-08-11T15:22:07.403207Z"
    }
   },
   "source": [
    "# Revisión\n",
    "blackjack(9,9,9)"
   ],
   "outputs": [
    {
     "data": {
      "text/plain": [
       "'BUST'"
      ]
     },
     "execution_count": 26,
     "metadata": {},
     "output_type": "execute_result"
    }
   ],
   "execution_count": 26
  },
  {
   "cell_type": "code",
   "metadata": {
    "id": "6eijyrH-KfPG",
    "outputId": "68421178-7dc7-439f-e433-ce567b999dd6",
    "ExecuteTime": {
     "end_time": "2025-08-11T15:22:07.424459Z",
     "start_time": "2025-08-11T15:22:07.417077Z"
    }
   },
   "source": [
    "# Revisión\n",
    "blackjack(9,9,11)"
   ],
   "outputs": [
    {
     "data": {
      "text/plain": [
       "19"
      ]
     },
     "execution_count": 27,
     "metadata": {},
     "output_type": "execute_result"
    }
   ],
   "execution_count": 27
  },
  {
   "cell_type": "markdown",
   "metadata": {
    "id": "6S22_l6xKfPI"
   },
   "source": [
    "## Suerte!"
   ]
  }
 ],
 "metadata": {
  "kernelspec": {
   "display_name": "Python 3 (ipykernel)",
   "language": "python",
   "name": "python3"
  },
  "language_info": {
   "codemirror_mode": {
    "name": "ipython",
    "version": 3
   },
   "file_extension": ".py",
   "mimetype": "text/x-python",
   "name": "python",
   "nbconvert_exporter": "python",
   "pygments_lexer": "ipython3",
   "version": "3.10.4"
  },
  "colab": {
   "name": "Practico_Bono_1(E).ipynb",
   "provenance": []
  }
 },
 "nbformat": 4,
 "nbformat_minor": 0
}
